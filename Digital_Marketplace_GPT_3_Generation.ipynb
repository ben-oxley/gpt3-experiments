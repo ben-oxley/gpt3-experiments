{
  "nbformat": 4,
  "nbformat_minor": 0,
  "metadata": {
    "colab": {
      "name": "Digital Marketplace GPT-3 Generation.ipynb",
      "provenance": [],
      "collapsed_sections": []
    },
    "kernelspec": {
      "name": "python3",
      "display_name": "Python 3"
    },
    "language_info": {
      "name": "python"
    }
  },
  "cells": [
    {
      "cell_type": "code",
      "metadata": {
        "colab": {
          "base_uri": "https://localhost:8080/"
        },
        "id": "VQeCUUv0HIDc",
        "outputId": "bae3df4a-7136-4f5d-b4f1-968e29d75bbc"
      },
      "source": [
        "!pip install openai\n",
        "!pip install pandas"
      ],
      "execution_count": null,
      "outputs": [
        {
          "output_type": "stream",
          "name": "stdout",
          "text": [
            "Requirement already satisfied: openai in /usr/local/lib/python3.7/dist-packages (0.10.4)\n",
            "Requirement already satisfied: pandas>=1.2.3 in /usr/local/lib/python3.7/dist-packages (from openai) (1.3.2)\n",
            "Requirement already satisfied: pandas-stubs>=1.1.0.11 in /usr/local/lib/python3.7/dist-packages (from openai) (1.2.0.13)\n",
            "Requirement already satisfied: openpyxl>=3.0.7 in /usr/local/lib/python3.7/dist-packages (from openai) (3.0.7)\n",
            "Requirement already satisfied: requests>=2.20 in /usr/local/lib/python3.7/dist-packages (from openai) (2.23.0)\n",
            "Requirement already satisfied: tqdm in /usr/local/lib/python3.7/dist-packages (from openai) (4.62.0)\n",
            "Requirement already satisfied: et-xmlfile in /usr/local/lib/python3.7/dist-packages (from openpyxl>=3.0.7->openai) (1.1.0)\n",
            "Requirement already satisfied: numpy>=1.17.3 in /usr/local/lib/python3.7/dist-packages (from pandas>=1.2.3->openai) (1.19.5)\n",
            "Requirement already satisfied: python-dateutil>=2.7.3 in /usr/local/lib/python3.7/dist-packages (from pandas>=1.2.3->openai) (2.8.2)\n",
            "Requirement already satisfied: pytz>=2017.3 in /usr/local/lib/python3.7/dist-packages (from pandas>=1.2.3->openai) (2018.9)\n",
            "Requirement already satisfied: typing-extensions>=3.7.4.3 in /usr/local/lib/python3.7/dist-packages (from pandas-stubs>=1.1.0.11->openai) (3.7.4.3)\n",
            "Requirement already satisfied: six>=1.5 in /usr/local/lib/python3.7/dist-packages (from python-dateutil>=2.7.3->pandas>=1.2.3->openai) (1.15.0)\n",
            "Requirement already satisfied: certifi>=2017.4.17 in /usr/local/lib/python3.7/dist-packages (from requests>=2.20->openai) (2021.5.30)\n",
            "Requirement already satisfied: urllib3!=1.25.0,!=1.25.1,<1.26,>=1.21.1 in /usr/local/lib/python3.7/dist-packages (from requests>=2.20->openai) (1.24.3)\n",
            "Requirement already satisfied: idna<3,>=2.5 in /usr/local/lib/python3.7/dist-packages (from requests>=2.20->openai) (2.10)\n",
            "Requirement already satisfied: chardet<4,>=3.0.2 in /usr/local/lib/python3.7/dist-packages (from requests>=2.20->openai) (3.0.4)\n"
          ]
        }
      ]
    },
    {
      "cell_type": "code",
      "metadata": {
        "colab": {
          "base_uri": "https://localhost:8080/",
          "height": 530
        },
        "id": "RaHf9mJEL2e1",
        "outputId": "18ea313a-7f49-4ca9-f608-13b7b8937382"
      },
      "source": [
        "import pandas as pd\n",
        "from lxml import html\n",
        "import requests\n",
        "url = \"https://assets.digitalmarketplace.service.gov.uk/digital-outcomes-and-specialists-5/communications/data/opportunity-data.csv\"\n",
        "projects = pd.read_csv(url)\n",
        "projects.set_index('ID')\n",
        "projects.head()\n"
      ],
      "execution_count": null,
      "outputs": [
        {
          "output_type": "execute_result",
          "data": {
            "text/html": [
              "<div>\n",
              "<style scoped>\n",
              "    .dataframe tbody tr th:only-of-type {\n",
              "        vertical-align: middle;\n",
              "    }\n",
              "\n",
              "    .dataframe tbody tr th {\n",
              "        vertical-align: top;\n",
              "    }\n",
              "\n",
              "    .dataframe thead th {\n",
              "        text-align: right;\n",
              "    }\n",
              "</style>\n",
              "<table border=\"1\" class=\"dataframe\">\n",
              "  <thead>\n",
              "    <tr style=\"text-align: right;\">\n",
              "      <th></th>\n",
              "      <th>ID</th>\n",
              "      <th>Opportunity</th>\n",
              "      <th>Link</th>\n",
              "      <th>Framework</th>\n",
              "      <th>Category</th>\n",
              "      <th>Specialist</th>\n",
              "      <th>Organisation Name</th>\n",
              "      <th>Buyer Domain</th>\n",
              "      <th>Location Of The Work</th>\n",
              "      <th>Published At</th>\n",
              "      <th>Open For</th>\n",
              "      <th>Expected Contract Length</th>\n",
              "      <th>Applications from SMEs</th>\n",
              "      <th>Applications from Large Organisations</th>\n",
              "      <th>Total Organisations</th>\n",
              "      <th>Status</th>\n",
              "      <th>Winning supplier</th>\n",
              "      <th>Size of supplier</th>\n",
              "      <th>Contract amount</th>\n",
              "      <th>Contract start date</th>\n",
              "      <th>Clarification questions</th>\n",
              "      <th>Employment status</th>\n",
              "    </tr>\n",
              "  </thead>\n",
              "  <tbody>\n",
              "    <tr>\n",
              "      <th>0</th>\n",
              "      <td>5</td>\n",
              "      <td>Alpha to replace www.enterprise-europe.co.uk</td>\n",
              "      <td>https://www.digitalmarketplace.service.gov.uk/...</td>\n",
              "      <td>digital-outcomes-and-specialists</td>\n",
              "      <td>digital-outcomes</td>\n",
              "      <td>NaN</td>\n",
              "      <td>Innovate UK</td>\n",
              "      <td>innovateuk.gov.uk</td>\n",
              "      <td>Offsite</td>\n",
              "      <td>2016-04-28</td>\n",
              "      <td>2 weeks</td>\n",
              "      <td>8 weeks</td>\n",
              "      <td>28</td>\n",
              "      <td>9</td>\n",
              "      <td>37</td>\n",
              "      <td>closed</td>\n",
              "      <td>NaN</td>\n",
              "      <td>NaN</td>\n",
              "      <td>NaN</td>\n",
              "      <td>NaN</td>\n",
              "      <td>45</td>\n",
              "      <td>NaN</td>\n",
              "    </tr>\n",
              "    <tr>\n",
              "      <th>1</th>\n",
              "      <td>9</td>\n",
              "      <td>HSCIC Dev Ops Contract - SOW 1 - Spine</td>\n",
              "      <td>https://www.digitalmarketplace.service.gov.uk/...</td>\n",
              "      <td>digital-outcomes-and-specialists</td>\n",
              "      <td>digital-outcomes</td>\n",
              "      <td>NaN</td>\n",
              "      <td>Health &amp; Social Care Information Centre (HSCIC...</td>\n",
              "      <td>hscic.gov.uk</td>\n",
              "      <td>Yorkshire and the Humber</td>\n",
              "      <td>2016-07-13</td>\n",
              "      <td>2 weeks</td>\n",
              "      <td>2 Years</td>\n",
              "      <td>6</td>\n",
              "      <td>6</td>\n",
              "      <td>12</td>\n",
              "      <td>closed</td>\n",
              "      <td>NaN</td>\n",
              "      <td>NaN</td>\n",
              "      <td>NaN</td>\n",
              "      <td>NaN</td>\n",
              "      <td>16</td>\n",
              "      <td>NaN</td>\n",
              "    </tr>\n",
              "    <tr>\n",
              "      <th>2</th>\n",
              "      <td>19</td>\n",
              "      <td>Programme CORTISONE - Scrum Master</td>\n",
              "      <td>https://www.digitalmarketplace.service.gov.uk/...</td>\n",
              "      <td>digital-outcomes-and-specialists</td>\n",
              "      <td>digital-specialists</td>\n",
              "      <td>deliveryManager</td>\n",
              "      <td>Ministry of Defence</td>\n",
              "      <td>mod.uk</td>\n",
              "      <td>South West England</td>\n",
              "      <td>2016-05-03</td>\n",
              "      <td>2 weeks</td>\n",
              "      <td>9 months</td>\n",
              "      <td>25</td>\n",
              "      <td>9</td>\n",
              "      <td>34</td>\n",
              "      <td>closed</td>\n",
              "      <td>NaN</td>\n",
              "      <td>NaN</td>\n",
              "      <td>NaN</td>\n",
              "      <td>NaN</td>\n",
              "      <td>13</td>\n",
              "      <td>NaN</td>\n",
              "    </tr>\n",
              "    <tr>\n",
              "      <th>3</th>\n",
              "      <td>20</td>\n",
              "      <td>Electronic Range Action Safety Plan (ERASP)</td>\n",
              "      <td>https://www.digitalmarketplace.service.gov.uk/...</td>\n",
              "      <td>digital-outcomes-and-specialists</td>\n",
              "      <td>digital-outcomes</td>\n",
              "      <td>NaN</td>\n",
              "      <td>Ministry Of Defence (MOD)</td>\n",
              "      <td>mod.uk</td>\n",
              "      <td>South West England</td>\n",
              "      <td>2016-05-05</td>\n",
              "      <td>2 weeks</td>\n",
              "      <td>Completion by January 2017</td>\n",
              "      <td>4</td>\n",
              "      <td>4</td>\n",
              "      <td>8</td>\n",
              "      <td>closed</td>\n",
              "      <td>NaN</td>\n",
              "      <td>NaN</td>\n",
              "      <td>NaN</td>\n",
              "      <td>NaN</td>\n",
              "      <td>7</td>\n",
              "      <td>NaN</td>\n",
              "    </tr>\n",
              "    <tr>\n",
              "      <th>4</th>\n",
              "      <td>28</td>\n",
              "      <td>Programme CORTISONE - Application Architect (S...</td>\n",
              "      <td>https://www.digitalmarketplace.service.gov.uk/...</td>\n",
              "      <td>digital-outcomes-and-specialists</td>\n",
              "      <td>digital-specialists</td>\n",
              "      <td>technicalArchitect</td>\n",
              "      <td>Ministry of Defence</td>\n",
              "      <td>mod.uk</td>\n",
              "      <td>South West England</td>\n",
              "      <td>2016-05-03</td>\n",
              "      <td>2 weeks</td>\n",
              "      <td>9 Months</td>\n",
              "      <td>14</td>\n",
              "      <td>7</td>\n",
              "      <td>21</td>\n",
              "      <td>closed</td>\n",
              "      <td>NaN</td>\n",
              "      <td>NaN</td>\n",
              "      <td>NaN</td>\n",
              "      <td>NaN</td>\n",
              "      <td>13</td>\n",
              "      <td>NaN</td>\n",
              "    </tr>\n",
              "  </tbody>\n",
              "</table>\n",
              "</div>"
            ],
            "text/plain": [
              "   ID  ... Employment status\n",
              "0   5  ...               NaN\n",
              "1   9  ...               NaN\n",
              "2  19  ...               NaN\n",
              "3  20  ...               NaN\n",
              "4  28  ...               NaN\n",
              "\n",
              "[5 rows x 22 columns]"
            ]
          },
          "metadata": {},
          "execution_count": 43
        }
      ]
    },
    {
      "cell_type": "code",
      "metadata": {
        "colab": {
          "base_uri": "https://localhost:8080/"
        },
        "id": "MoC9kobIThKv",
        "outputId": "65919439-1968-4c00-93f3-865963e6cad8"
      },
      "source": [
        "prompt = \"Project titles for developing digital services for government\\n\\n\"\n",
        "\n",
        "exampleidx = 1\n",
        "for rowidx, p in projects.sample(n=25).iterrows():\n",
        "  page = requests.get(p['Link'])\n",
        "  tree = html.fromstring(page.content)\n",
        "  desc = tree.xpath('//div[@class=\"govuk-summary-list__row\"]/*/text()')\n",
        "  index = [idx for idx, s in enumerate(desc) if 'Summary of the work' in s][0]\n",
        "  indexend = [idx for idx, s in enumerate(desc[index+1:]) if s.endswith('\\n        ')][0]\n",
        "  final_txt = ''.join( _ for _ in desc[index+1:index+2+indexend]).strip()\n",
        "  #print(f\"{p['Opportunity']}:{final_txt}\")\n",
        "  prompt = prompt+f\"{exampleidx}. {p['Opportunity']}\\n{final_txt}\\n\\n\"\n",
        "  exampleidx = exampleidx + 1\n",
        "prompt = prompt + f\"{exampleidx}.\"\n",
        "print(prompt)"
      ],
      "execution_count": null,
      "outputs": [
        {
          "output_type": "stream",
          "name": "stdout",
          "text": [
            "Project titles for developing digital services for government\n",
            "\n",
            "1. eSASH Pathology Workstream Lead\n",
            "Cerner EPR upgrade / deployment - Pathology Order Catalogue update and migration to new LIMS\n",
            "\n",
            "2. SLaMST20 - 084 COVID Digital Delivery for whole class mental health programme for primary schools\n",
            "Transform exisiting clinician delivered sessions into engaging digital modules with appropriate technical infrastructure for teacher-led classroom delivery.   Build on existing content and characters and bring them to life via dynamic mix of media including animation and videos. Ensure interactivity, developmental appropriateness and means of integrating outcome measurement.\n",
            "\n",
            "3. Microsoft Dynamics Tester\n",
            "The specialist will be part of a team supporting the on-going development of our case management tool, which is based on Microsoft Dynamics.\n",
            "\n",
            "4. CCT545 - Security Assurance Manager\n",
            "Carry out  a range of security assurance activities for each current capability (MODNet (OFFICIAL/ Overseas/ SECRET), Mobility, O365 SPE E5 and Office 2016), ensuring services are compliant with policy and are deployed without presenting undue risk to the security of MOD information\n",
            "\n",
            "5. Mendix Low Code Development Partner for GM Smart Resident Platform and Early Years App and Portal\n",
            "A development partner to develop our Smart Resident Platform using our intended Low Code solution Mendix.  The development of an app and portal for Citizens and professionals to digitally transform the Early Years process as part of a wider unique regional architecture harmonising Local Authorities and Health providers\n",
            "\n",
            "6. Business Reporting & Management Information  (BRMI) Phase 3\n",
            "Co-management with the Council of the project phase.  Completion of requirements definition and options analysis for future development of an existing data warehouse.  Delivery of new and enhanced reporting and analysis capability for the warehouse.  Delivery of technical improvements to the warehouse, reports and interfaces.  Knowledge transfer to Council staff.\n",
            "\n",
            "7. Website developer to create a programme of events webpage on COP26 website.\n",
            "The greenzone programme is 200 public-facing events during COP26. It needs to be accessible, easy to use and doesn't make the webpage too long. We just need the registration part on our website with some kind of filtering system (date/ type of event).Example:\n",
            "\n",
            "8. Software Application Packaging Services For Windows 10\n",
            "Packaging and testing of software applications for the GMP Windows 10 project, for approximately 120 applications. The contract will also provide further packaging services through the provision of a 'block of credits' to be used on a call-off basis during the contract period.\n",
            "\n",
            "9. Digital maturity benchmark and transformation to improve the citizens experience and how we serve\n",
            "Digital maturity assessment and analysis for all Council services, benchmarked with other authorities by service if possible,  recommendation of any associated cultural and/or organisational changes that would improve the experience of Doncaster citizens with regard to the Council’s digital offer and quality of service delivery.\n",
            "\n",
            "10. A discovery phase to understand how we can redesign the ‘front door’ for adult social care\n",
            "A discovery phase to understand user needs for adult social care needs assessments.\n",
            "\n",
            "11. Drupal Support and Development for NOMS Digital Studio\n",
            "Two experienced Developers to help support and develop new features on a prototype digital service aimed at turning prisoners lives around.  This service will be deployed to 2 prisons early 2017.\n",
            "\n",
            "12. Technical Architect\n",
            "Disclosure Scotland provides criminal record checking services to individuals and organisations to support safer recruitment and protect vulnerable groups. We are currently undergoing a digital transformation . This is a rare opportunity to help transform the way we provides this critical public service\n",
            "\n",
            "13. Free-Flow Charging (FFC) Management Information (MI) Data Hub\n",
            "High level design, security, and data protection documentation to support the FFC Management Information Data Hub.\n",
            "\n",
            "14. AIS Cloud Developer 2\n",
            "Drivers Legacy Product Squad require an experienced Software developer with to carry out changes to IEP Services (View Driving Licence, Check Driving Licence, Share Driving Licence, Access to Driver Data etc) and Fitness2Drive – which are bespoke Java based services. These changes are prioritised by Service Management\n",
            "\n",
            "15. SGDOS00001 ISMS Assessment\n",
            "Develop and implement comonents for the FCO Services Information Security management System (ISMS). Develop a risk assessment method based on Home Office Technology 'Risk Discovery', conduct risk assessments and develop risk treatment plans and Statement of Applicability.\n",
            "\n",
            "16. IT Finance Business Analyst copy\n",
            "This is a crucial role for the IT replacement project and involves working with the service to define one of the most important system connections. Ensuring that key benefits from system functionality are achieved that meet the technical aspects of financial accounting for Housing General fund and the HRA.\n",
            "\n",
            "17. Agile Delivery and CI of the departments strategic Identity and Access Management System\n",
            "We are seeking a partner to develop, support and continously improve our strategic in-house developed Identity and Access Management service through Beta phase, until able to pass the digital service standard for live services. Discovery and Alpha phases have been completed.\n",
            "\n",
            "18. User Experience & Design Capability\n",
            "DfE are looking for a supplier to work alongside our digital development teams covering User Experience and Design capabilities to drive user centred design of communication, content, IA, interactions, products, policy, operation and services. There is currently no incumbent delivering this capability in the South of England\n",
            "\n",
            "19. User researcher required urgently for UK-wide trial.\n",
            "We are looking for a user researcher to assist us with understanding and evaluating the progress of 3 simple prototypes which are being tested at Job Centres across the UK. You will visit 7 sites, and use a combination of observation and interviewing to understand & make recommendations for iterations.\n",
            "\n",
            "20. NLEDP 126 - Data Standards Product Manager\n",
            "The Standards Manager will transform policing and law enforcement access to and use of national data. They will define and implement improvements to the way data is used. This role will improve national data, investigative, public safety outcomes and decision making, whilst reducing operational and Home Office risk.\n",
            "\n",
            "21. Home Office DDaT Organisation Database Partner\n",
            "To support the design and development of an organisation structure baseline data architecture and database (including querying tools), detailing organisation structure, role relationships, role descriptions, and required skills for each role at each grade, for the Home Office Digital Data and Technology Directorate.\n",
            "\n",
            "22. Careers Wales Web Platform - Backend Development\n",
            "Careers Wales require a range of technical skills to develop and deliver products and services that will support the implementation of the new vision ‘Brighter Futures’ 2021-2026.This award is for the backend development of lightweight micro-services and applications, and to support those applications and services developed.\n",
            "\n",
            "23. Data Standards to share Events & Actions, Circumstances & Risk Factors to find vulnerable households\n",
            "Central Government (MHCLG) funded project to develop data standards to share event, circumstance and risk attributes for vulnerable people and households. Further standards and protocols to share interventions and actions across multiple agencies. Mapping out data flows for some core vulnerability scenarios including COVID19 and Homelessness Prevention.\n",
            "\n",
            "24. PU-17/0107 - Statistical Process Control\n",
            "ONS are looking for a dynamic, highly skilled, collaborative supplier to work on creating the alpha of SPC and components of the first data journey. Moving forward we need a supplier capable of delivering significant technical change at pace in a data focused environment using Agile techniques.\n",
            "\n",
            "25. Product Development consultancy for the Medicines and Healthcare products Regulatory Agency (MHRA)\n",
            "MHRA require advice on the complete end-to-end processes for digital product development.  This work will advise on best practice for the development of new and redevelopment of existing digital products with a view to understanding requirements for the development of an internal team.\n",
            "\n",
            "26.\n"
          ]
        }
      ]
    },
    {
      "cell_type": "code",
      "metadata": {
        "colab": {
          "base_uri": "https://localhost:8080/"
        },
        "id": "NkND3IzuIhxo",
        "outputId": "d15405e8-575f-4619-ee8f-44f0ee041ea8"
      },
      "source": [
        "import getpass\n",
        "\n",
        "key = getpass.getpass()"
      ],
      "execution_count": null,
      "outputs": [
        {
          "name": "stdout",
          "output_type": "stream",
          "text": [
            "··········\n"
          ]
        }
      ]
    },
    {
      "cell_type": "code",
      "metadata": {
        "id": "5iwXuYjSLikv"
      },
      "source": [
        ""
      ],
      "execution_count": null,
      "outputs": []
    },
    {
      "cell_type": "code",
      "metadata": {
        "colab": {
          "base_uri": "https://localhost:8080/"
        },
        "id": "Wn_nTX8KHnh4",
        "outputId": "2cdf4519-60b2-4679-fe1f-80f0822ac16a"
      },
      "source": [
        "import os\n",
        "import openai\n",
        "\n",
        "# Load your API key from an environment variable or secret management service\n",
        "openai.api_key = key\n",
        "\n",
        "response = openai.Completion.create(engine=\"davinci\", prompt=prompt, max_tokens=200)\n",
        "print(response)"
      ],
      "execution_count": null,
      "outputs": [
        {
          "output_type": "stream",
          "name": "stdout",
          "text": [
            "{\n",
            "  \"choices\": [\n",
            "    {\n",
            "      \"finish_reason\": \"length\",\n",
            "      \"index\": 0,\n",
            "      \"logprobs\": null,\n",
            "      \"text\": \" Talent Acquisition Innovation Programme\\nSuite 8 | June 2017 | Senior / Lead Acquisition Consultant\\nThis acquisition will play a crucial role in identifying strategic acquisition targets, future proofing capacity and capability, knowledge sharing best practice and working with colleagues across the business. They will play a lead role in proofing talent strategy, talent capability planning, talent knowledge, skills and capability profiling, recruiting, annual refreshes, development, retention, succession planning to ensure this key capability is fit for the future.\\n\\n27. Internal Technical Monitor\\nEnsure ICT are delivering to budget, on time, have what is needed by operational teams. Monitor software compliance with contractual, technical and supplier compliance deliverables. Provide regular insight to our Agile working groups.\\n\\n28. Digital business architect\\nDesign the technical architecture for the solution, clearly communicating to non-technical team members. Define databases, application programming interfaces, security to support the adaption of the product to the expectations of customers. Working to\"\n",
            "    }\n",
            "  ],\n",
            "  \"created\": 1631221789,\n",
            "  \"id\": \"cmpl-3gLanzWO3D9ewaCgDsfNMulQKZ6ti\",\n",
            "  \"model\": \"davinci:2020-05-03\",\n",
            "  \"object\": \"text_completion\"\n",
            "}\n"
          ]
        }
      ]
    }
  ]
}